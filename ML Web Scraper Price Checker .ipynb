{
 "cells": [
  {
   "cell_type": "code",
   "execution_count": 213,
   "id": "5fe86fa5",
   "metadata": {},
   "outputs": [],
   "source": [
    "from bs4 import BeautifulSoup\n",
    "import requests\n",
    "import time\n",
    "import datetime\n",
    "import csv\n",
    "import pandas as pd\n",
    "import smtplib, ssl\n",
    "from email.mime.text import MIMEText\n"
   ]
  },
  {
   "cell_type": "code",
   "execution_count": 214,
   "id": "6980c776",
   "metadata": {},
   "outputs": [],
   "source": [
    "# Connect to Website\n",
    "\n",
    "URL = 'https://produto.mercadolivre.com.br/MLB-1836424661-kit-4-almofadas-cheias-decorativas-42x42-1-almofada-de-no-_JM?hide_psmb=true&hide_psmb=true&hide_psmb=true#reco_item_pos=1&reco_backend=promotions-sorted-by-score-mlb-B&reco_backend_type=low_level&reco_client=seller-promotions&reco_id=44d10358-b5c9-4376-9bf9-a2dd3d9077dd&deal_print_id=00bc626c-be48-4f0b-b785-e9685692e5ed&model_version=recommendations/prueba-promotions-MLB__3552__KAKUY&promotion_type=DEAL_OF_THE_DAY'\n",
    "\n",
    "headers = {'User-Agent': 'Mozilla/5.0 (Macintosh; Intel Mac OS X 10_15_7) AppleWebKit/537.36 (KHTML, like Gecko) Chrome/97.0.4692.99 Safari/537.36'}\n",
    "\n",
    "# To find your user-agent use this script => https://httpbin.org/get\n",
    "\n",
    "page = requests.get(URL, headers=headers)\n",
    "\n",
    "soup1 = BeautifulSoup(page.content, 'html.parser')\n"
   ]
  },
  {
   "cell_type": "code",
   "execution_count": 215,
   "id": "847085ca",
   "metadata": {},
   "outputs": [],
   "source": [
    "soup2 = BeautifulSoup(soup1.prettify(), 'html.parser')\n"
   ]
  },
  {
   "cell_type": "code",
   "execution_count": 216,
   "id": "73975b84",
   "metadata": {},
   "outputs": [
    {
     "name": "stdout",
     "output_type": "stream",
     "text": [
      "\n",
      "              Kit 4 Almofadas Cheias Decorativas 42x42 + 1 Almofada De Nó\n",
      "             \n",
      "\n",
      "               99\n",
      "              \n"
     ]
    }
   ],
   "source": [
    "title = soup2.find('h1', {'class': 'ui-pdp-title'}).get_text()\n",
    "price = soup2.find('span', {'class': 'price-tag-fraction'}).get_text()\n",
    "\n",
    "print(title)\n",
    "print(price)"
   ]
  },
  {
   "cell_type": "code",
   "execution_count": 217,
   "id": "02bd1b59",
   "metadata": {},
   "outputs": [],
   "source": [
    "title = title.strip()\n",
    "price = price.strip()\n",
    "today = datetime.date.today()"
   ]
  },
  {
   "cell_type": "code",
   "execution_count": 218,
   "id": "946bf454",
   "metadata": {},
   "outputs": [
    {
     "name": "stdout",
     "output_type": "stream",
     "text": [
      "Kit 4 Almofadas Cheias Decorativas 42x42 + 1 Almofada De Nó\n",
      "99\n"
     ]
    }
   ],
   "source": [
    "print(title)\n",
    "print(price)"
   ]
  },
  {
   "cell_type": "code",
   "execution_count": 219,
   "id": "6586af49",
   "metadata": {},
   "outputs": [
    {
     "name": "stdout",
     "output_type": "stream",
     "text": [
      "99\n"
     ]
    }
   ],
   "source": [
    "price_int = int(price)\n",
    "print(price_int)"
   ]
  },
  {
   "cell_type": "code",
   "execution_count": 220,
   "id": "954f7f21",
   "metadata": {},
   "outputs": [
    {
     "data": {
      "text/plain": [
       "list"
      ]
     },
     "execution_count": 220,
     "metadata": {},
     "output_type": "execute_result"
    }
   ],
   "source": [
    "header = ['Product', 'Price', 'Date']\n",
    "data = [title, price_int, today]\n",
    "\n",
    "type(data)"
   ]
  },
  {
   "cell_type": "code",
   "execution_count": 221,
   "id": "211dadb5",
   "metadata": {},
   "outputs": [],
   "source": [
    "## Umcomment after running the first time and create your csv, so you avoid to erase your table records every time you run this code\n",
    "\n",
    "#with open('ml_product_scraper.csv', 'w', newline='', encoding='UTF8') as f:\n",
    "    #writer = csv.writer(f)\n",
    "    #writer.writerow(header)\n",
    "    #writer.writerow(data)\n",
    "\n"
   ]
  },
  {
   "cell_type": "code",
   "execution_count": 222,
   "id": "225ac1b1",
   "metadata": {},
   "outputs": [
    {
     "name": "stdout",
     "output_type": "stream",
     "text": [
      "                                              Product   Price        Date\n",
      "0   Bicicleta Aro 29 Xks Quadro Aluminio Freio Dis...   1.171  2022-02-01\n",
      "1   Bicicleta Aro 29 Xks Quadro Aluminio Freio Dis...   1.171  2022-02-01\n",
      "2   Bicicleta Aro 29 Xks Quadro Aluminio Freio Dis...   1.171  2022-02-01\n",
      "3   Bicicleta Aro 29 Xks Quadro Aluminio Freio Dis...   1.171  2022-02-01\n",
      "4   Bicicleta Aro 29 Xks Quadro Aluminio Freio Dis...   1.171  2022-02-01\n",
      "..                                                ...     ...         ...\n",
      "56  Kit 4 Almofadas Cheias Decorativas 42x42 + 1 A...  99.000  2022-02-01\n",
      "57  Bicicleta Aro 29 Xks Quadro Aluminio Freio Dis...   1.000  2022-02-01\n",
      "58  Bicicleta Aro 29 Xks Quadro Aluminio Freio Dis...   1.000  2022-02-01\n",
      "59  Kit 4 Almofadas Cheias Decorativas 42x42 + 1 A...  99.000  2022-02-01\n",
      "60  Bicicleta Aro 29 Xks Quadro Aluminio Freio Dis...   1.000  2022-02-01\n",
      "\n",
      "[61 rows x 3 columns]\n"
     ]
    }
   ],
   "source": [
    "df = pd.read_csv('ml_product_scraper.csv')\n",
    "print(df)"
   ]
  },
  {
   "cell_type": "code",
   "execution_count": 223,
   "id": "52487a99",
   "metadata": {},
   "outputs": [],
   "source": [
    "# Appedning data to the csv\n",
    "\n",
    "with open('ml_product_scraper.csv', 'a+', newline='', encoding='UTF8') as f:\n",
    "    writer = csv.writer(f)\n",
    "    writer.writerow(data)"
   ]
  },
  {
   "cell_type": "code",
   "execution_count": 224,
   "id": "5bc85a6b",
   "metadata": {},
   "outputs": [],
   "source": [
    "# Automate price check\n",
    "\n",
    "def check_price():\n",
    "    URL = 'https://www.mercadolivre.com.br/ofertas?promotion_type=DEAL_OF_THE_DAY#origin=qcat&filter_applied=promotion_type&filter_position=2'\n",
    "\n",
    "    headers = {'User-Agent': 'Mozilla/5.0 (Macintosh; Intel Mac OS X 10_15_7) AppleWebKit/537.36 (KHTML, like Gecko) Chrome/97.0.4692.99 Safari/537.36'}\n",
    "\n",
    "    page = requests.get(URL, headers=headers)\n",
    "\n",
    "    soup1 = BeautifulSoup(page.content, 'html.parser')\n",
    "    \n",
    "    soup2 = BeautifulSoup(soup1.prettify(), 'html.parser')\n",
    "    \n",
    "    title = soup2.find('p', {'class': 'promotion-item__title'}).get_text()\n",
    "    \n",
    "    price = soup2.find('span', {'class': 'promotion-item__price'}).get_text()\n",
    "    \n",
    "    title = title.strip()\n",
    "    \n",
    "    price = price.strip()[3:-36]\n",
    "    \n",
    "    price_int = int(float(price))\n",
    "    \n",
    "    import datetime\n",
    "    \n",
    "    today = datetime.date.today()\n",
    "    \n",
    "    import csv\n",
    "    \n",
    "    header = ['Product', 'Price', 'Date']\n",
    "    \n",
    "    data = [title, price_int, today]\n",
    "    \n",
    "    with open('ml_product_scraper.csv', 'a+', newline='', encoding='UTF8') as f:\n",
    "        writer = csv.writer(f)\n",
    "        writer.writerow(data)\n",
    "        \n",
    "    sender = 'mafe.mavromati@gmail.com'\n",
    "\n",
    "    receivers = ['mafe.mavromati@gmail.com']\n",
    "\n",
    "    body_of_email = 'Text to be displayed in the email'\n",
    "\n",
    "    msg = MIMEText(body_of_email, 'html')\n",
    "\n",
    "    msg['Subject'] = 'Subject line goes here'\n",
    "\n",
    "    msg['From'] = sender\n",
    "\n",
    "    msg['To'] = ','.join(receivers)\n",
    "        \n",
    "    if(price_int < 100):\n",
    "        send_mail(msg)\n",
    "    \n"
   ]
  },
  {
   "cell_type": "code",
   "execution_count": 225,
   "id": "c4e16a26",
   "metadata": {},
   "outputs": [],
   "source": [
    "sender = 'mafe.mavromati@gmail.com'\n",
    "\n",
    "receivers = ['mafe.mavromati@gmail.com']\n",
    "\n",
    "body_of_email = 'Text to be displayed in the email'\n",
    "\n",
    "msg = MIMEText(body_of_email, 'html')\n",
    "\n",
    "msg['Subject'] = 'Subject line goes here'\n",
    "\n",
    "msg['From'] = sender\n",
    "\n",
    "msg['To'] = ','.join(receivers)\n"
   ]
  },
  {
   "cell_type": "code",
   "execution_count": 226,
   "id": "3164dd17",
   "metadata": {},
   "outputs": [],
   "source": [
    "def send_mail(msg):\n",
    "    s = smtplib.SMTP_SSL(host = 'smtp.gmail.com', port = 465)\n",
    "    s.login(user = 'xxxx@gmail.com', password = 'xxxxx')\n",
    "    s.sendmail(sender, receivers, msg.as_string())\n",
    "    s.quit()\n",
    "    "
   ]
  },
  {
   "cell_type": "code",
   "execution_count": 227,
   "id": "26f1a6f5",
   "metadata": {},
   "outputs": [
    {
     "ename": "KeyboardInterrupt",
     "evalue": "",
     "output_type": "error",
     "traceback": [
      "\u001b[0;31m---------------------------------------------------------------------------\u001b[0m",
      "\u001b[0;31mKeyboardInterrupt\u001b[0m                         Traceback (most recent call last)",
      "\u001b[0;32m/var/folders/71/_pl2ppt567s0_nppz79x5dz00000gn/T/ipykernel_4100/3089606306.py\u001b[0m in \u001b[0;36m<module>\u001b[0;34m\u001b[0m\n\u001b[1;32m      3\u001b[0m \u001b[0;32mwhile\u001b[0m\u001b[0;34m(\u001b[0m\u001b[0;32mTrue\u001b[0m\u001b[0;34m)\u001b[0m\u001b[0;34m:\u001b[0m\u001b[0;34m\u001b[0m\u001b[0;34m\u001b[0m\u001b[0m\n\u001b[1;32m      4\u001b[0m     \u001b[0mcheck_price\u001b[0m\u001b[0;34m(\u001b[0m\u001b[0;34m)\u001b[0m\u001b[0;34m\u001b[0m\u001b[0;34m\u001b[0m\u001b[0m\n\u001b[0;32m----> 5\u001b[0;31m     \u001b[0mtime\u001b[0m\u001b[0;34m.\u001b[0m\u001b[0msleep\u001b[0m\u001b[0;34m(\u001b[0m\u001b[0;36m10\u001b[0m\u001b[0;34m)\u001b[0m\u001b[0;34m\u001b[0m\u001b[0;34m\u001b[0m\u001b[0m\n\u001b[0m",
      "\u001b[0;31mKeyboardInterrupt\u001b[0m: "
     ]
    }
   ],
   "source": [
    "# Set Timer\n",
    "\n",
    "while(True):\n",
    "    check_price()\n",
    "    time.sleep(360) #in seconds"
   ]
  },
  {
   "cell_type": "code",
   "execution_count": null,
   "id": "f5d1df57",
   "metadata": {},
   "outputs": [],
   "source": []
  }
 ],
 "metadata": {
  "kernelspec": {
   "display_name": "Python 3 (ipykernel)",
   "language": "python",
   "name": "python3"
  },
  "language_info": {
   "codemirror_mode": {
    "name": "ipython",
    "version": 3
   },
   "file_extension": ".py",
   "mimetype": "text/x-python",
   "name": "python",
   "nbconvert_exporter": "python",
   "pygments_lexer": "ipython3",
   "version": "3.9.7"
  }
 },
 "nbformat": 4,
 "nbformat_minor": 5
}
